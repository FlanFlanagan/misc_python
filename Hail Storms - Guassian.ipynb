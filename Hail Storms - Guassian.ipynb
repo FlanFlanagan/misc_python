{
 "cells": [
  {
   "cell_type": "code",
   "execution_count": 1,
   "metadata": {},
   "outputs": [],
   "source": [
    "import geopandas as gp\n",
    "import geoplot as gplt\n",
    "import matplotlib.pyplot as plt\n",
    "import numpy as np\n",
    "import scipy.stats as sp"
   ]
  },
  {
   "cell_type": "code",
   "execution_count": 2,
   "metadata": {},
   "outputs": [],
   "source": [
    "hail = gp.read_file('hailshape/1955-2018-hail-initpoint.shp')\n",
    "states = gp.read_file('/home/robert/basemaps/counties/cb_2018_us_county_500k.shp')"
   ]
  },
  {
   "cell_type": "markdown",
   "metadata": {},
   "source": [
    "### To perform this calculation we need to shift the data into arrays for each month. And we'll need to calcuate the mean and stardard deviation for each month. In addition to sorting the data by month, we will only take the storms that produce hail of greater than 1\" hailstones. "
   ]
  },
  {
   "cell_type": "code",
   "execution_count": 3,
   "metadata": {},
   "outputs": [],
   "source": [
    "years = range(1959, 2019, 1)\n",
    "months = {}\n",
    "for m in range(1,13):\n",
    "    months[m] = []\n",
    "for i in years:\n",
    "    for m in range(1,13):\n",
    "        t = hail[(hail['st']=='CO') & (hail['yr']==i) & (hail['mo']==m)]\n",
    "        t = t[t['mag'] > 1.]\n",
    "        months[m].append(len(t))"
   ]
  },
  {
   "cell_type": "markdown",
   "metadata": {},
   "source": [
    "### We'll generate some functions to handle the gaussian functions we'll need."
   ]
  },
  {
   "cell_type": "code",
   "execution_count": 4,
   "metadata": {},
   "outputs": [],
   "source": [
    "def params(array):\n",
    "    mu = np.mean(array)\n",
    "    omega = np.std(array)\n",
    "    return mu, omega\n",
    "\n",
    "def gaussian(mu, omega, x):\n",
    "    return 1/(omega*(2*np.pi)**(0.5))*np.exp(-1*(x-mu)**2/(2*omega**2))\n",
    "\n",
    "def gaussian_int(mu, omega, ran):\n",
    "    t = 0\n",
    "    for r in range(len(ran)-1):\n",
    "        delta = ran[r+1] - ran[r]\n",
    "        g = gaussian(mu, omega, ran[r])\n",
    "        t += g*delta\n",
    "    return t"
   ]
  },
  {
   "cell_type": "markdown",
   "metadata": {},
   "source": [
    "### Now to test the functions to make sure they are correct. We'll first test that our probability of getting a value less than the mean will result in approximately 50%. It might be slightly different due to the crude integration technique being used. "
   ]
  },
  {
   "cell_type": "code",
   "execution_count": 5,
   "metadata": {},
   "outputs": [],
   "source": [
    "gaussian(20, 2, 21)\n",
    "ran = np.arange(0, 20, 0.0001)"
   ]
  },
  {
   "cell_type": "code",
   "execution_count": 6,
   "metadata": {},
   "outputs": [
    {
     "data": {
      "text/plain": [
       "0.49997007932899457"
      ]
     },
     "execution_count": 6,
     "metadata": {},
     "output_type": "execute_result"
    }
   ],
   "source": [
    "gaussian_int(20, 2, ran)"
   ]
  },
  {
   "cell_type": "markdown",
   "metadata": {},
   "source": [
    "### Now let's check the integration problem we were doing in the example. What is the probability that our phone will have a battery life of greater than 21 hours. Our crude integration technique won't allow us to push out to infinty. Instead we'll push the value out to 40 (10 standard deviations). "
   ]
  },
  {
   "cell_type": "code",
   "execution_count": 7,
   "metadata": {},
   "outputs": [
    {
     "data": {
      "text/plain": [
       "0.317375849569944"
      ]
     },
     "execution_count": 7,
     "metadata": {},
     "output_type": "execute_result"
    }
   ],
   "source": [
    "ran = np.arange(21, 40, 0.1)\n",
    "gaussian_int(20, 2, ran)"
   ]
  },
  {
   "cell_type": "markdown",
   "metadata": {},
   "source": [
    "### Okay, now we can look at the hail data. Here we'll check the probability of getting 20 hail storms across Colorado in the month of July. "
   ]
  },
  {
   "cell_type": "code",
   "execution_count": 8,
   "metadata": {},
   "outputs": [],
   "source": [
    "mu, omega = params(months[7])"
   ]
  },
  {
   "cell_type": "code",
   "execution_count": 9,
   "metadata": {},
   "outputs": [
    {
     "data": {
      "text/plain": [
       "0.016396373059243283"
      ]
     },
     "execution_count": 9,
     "metadata": {},
     "output_type": "execute_result"
    }
   ],
   "source": [
    "gaussian(mu, omega, 20)"
   ]
  },
  {
   "cell_type": "code",
   "execution_count": 10,
   "metadata": {},
   "outputs": [
    {
     "data": {
      "text/plain": [
       "0.5888254980044053"
      ]
     },
     "execution_count": 10,
     "metadata": {},
     "output_type": "execute_result"
    }
   ],
   "source": [
    "ran = np.arange(0, 40, 0.01)\n",
    "gaussian_int(mu, omega, ran)"
   ]
  },
  {
   "cell_type": "code",
   "execution_count": 11,
   "metadata": {},
   "outputs": [
    {
     "name": "stdout",
     "output_type": "stream",
     "text": [
      "17.433333333333334 24.1946045408659\n"
     ]
    }
   ],
   "source": [
    "print(mu, omega)"
   ]
  },
  {
   "cell_type": "code",
   "execution_count": null,
   "metadata": {},
   "outputs": [],
   "source": []
  }
 ],
 "metadata": {
  "kernelspec": {
   "display_name": "Python 3",
   "language": "python",
   "name": "python3"
  },
  "language_info": {
   "codemirror_mode": {
    "name": "ipython",
    "version": 3
   },
   "file_extension": ".py",
   "mimetype": "text/x-python",
   "name": "python",
   "nbconvert_exporter": "python",
   "pygments_lexer": "ipython3",
   "version": "3.7.7"
  }
 },
 "nbformat": 4,
 "nbformat_minor": 4
}
