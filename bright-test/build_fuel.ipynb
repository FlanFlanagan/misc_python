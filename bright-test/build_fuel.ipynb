{
 "cells": [
  {
   "cell_type": "code",
   "execution_count": 111,
   "metadata": {},
   "outputs": [],
   "source": [
    "import pandas as pd\n",
    "import numpy as np\n",
    "import matplotlib.pyplot as plt"
   ]
  },
  {
   "cell_type": "code",
   "execution_count": 112,
   "metadata": {},
   "outputs": [],
   "source": [
    "def combine_db_by_iso(iso, time, dbs, weights):\n",
    "    v = 0\n",
    "    for i in range(len(dbs)):\n",
    "        try:\n",
    "            v += list(dbs[i][(dbs[i]['TIME']==iso)][time])[0] * weights[i]\n",
    "        except:\n",
    "            v += 0\n",
    "    return v\n",
    "\n",
    "def combine_dbs_by_isoweights(dbs, weights):\n",
    "    x = pd.concat(dbs)\n",
    "    isos = np.insert(x['TIME'].unique(), 0, 'FLUENCE')\n",
    "    times = x.columns[1:]\n",
    "    y = []\n",
    "    for t in times:\n",
    "        temp = [t]\n",
    "        for i in isos[1:]:  \n",
    "            temp.append(combine_db_by_iso(i, t, dbs, weights))\n",
    "        y.append(temp)\n",
    "    z = pd.DataFrame(y, columns=isos)\n",
    "    z['BUd'] = z['BUd'].cumsum()\n",
    "    return z    \n",
    "\n",
    "def db_slice_values(db, target_column, target_value):\n",
    "    cols = db.columns\n",
    "    t_array = []\n",
    "    db1 = db[:1]\n",
    "    db2 = db[-1:]\n",
    "    x1 = db1[target_column].values[0]\n",
    "    delta_x = db2[target_column].values[0] - x1\n",
    "    x = target_value - x1\n",
    "    for c in cols:\n",
    "        if c == target_column:\n",
    "            t_array.append(target_value)\n",
    "        else:\n",
    "            y1 = float(db1[c].values[0])\n",
    "            y2 = float(db2[c].values[0])\n",
    "            t_array.append(y1 + x*(y2-y1)/(delta_x))\n",
    "    db.loc[-1] = t_array\n",
    "    db.index =db.index + 1\n",
    "    db.sort_index(inplace=True)\n",
    "    return db"
   ]
  },
  {
   "cell_type": "code",
   "execution_count": 113,
   "metadata": {},
   "outputs": [],
   "source": [
    "U235 = pd.read_csv('U235.csv')\n",
    "U235.fillna(0, inplace=True)\n",
    "U238 = pd.read_csv('U238.csv')\n",
    "U238.fillna(0, inplace=True)\n",
    "z = combine_dbs_by_isoweights([U235, U238], [0.0071, 0.9929])\n",
    "z1 = z[(z['BUd'] > 5) & (z['BUd'] < 10)]"
   ]
  },
  {
   "cell_type": "code",
   "execution_count": 129,
   "metadata": {},
   "outputs": [
    {
     "name": "stderr",
     "output_type": "stream",
     "text": [
      "c:\\Users\\rf846\\anaconda3\\lib\\site-packages\\pandas\\core\\indexing.py:723: SettingWithCopyWarning: \n",
      "A value is trying to be set on a copy of a slice from a DataFrame\n",
      "\n",
      "See the caveats in the documentation: https://pandas.pydata.org/pandas-docs/stable/user_guide/indexing.html#returning-a-view-versus-a-copy\n",
      "  iloc._setitem_with_indexer(indexer, value, self.name)\n",
      "c:\\Users\\rf846\\anaconda3\\lib\\site-packages\\pandas\\core\\frame.py:6393: SettingWithCopyWarning: \n",
      "A value is trying to be set on a copy of a slice from a DataFrame\n",
      "\n",
      "See the caveats in the documentation: https://pandas.pydata.org/pandas-docs/stable/user_guide/indexing.html#returning-a-view-versus-a-copy\n",
      "  return super().sort_index(\n"
     ]
    }
   ],
   "source": [
    "lower = 2\n",
    "upper = 15\n",
    "BU_range = range(lower, upper)\n",
    "PU239 = np.zeros(len(BU_range))\n",
    "PU240 = np.zeros(len(BU_range))\n",
    "PU241 = np.zeros(len(BU_range))\n",
    "PU242 = np.zeros(len(BU_range))\n",
    "z1 = z[(z['BUd'] > lower) & (z['BUd'] < upper)]\n",
    "for i in range(len(BU_range)):\n",
    "    z2 = db_slice_values(z1, 'BUd', BU_range[i])\n",
    "    PU239[i] = (z2['PU239'].values[0]/1000)\n",
    "    PU240[i] = (z2['PU240'].values[0]/1000)\n",
    "    PU241[i] = (z2['PU241'].values[0]/1000)\n",
    "    PU242[i] = (z2['PU242'].values[0]/1000)\n",
    "#print('PU239: ' + str(z2['PU239'].values[0]/1000))\n",
    "#print('PU240: ' + str(z2['PU240'].values[0]/1000))\n",
    "#print('PU241: ' + str(z2['PU241'].values[0]/1000))\n",
    "#print('PU242: ' + str(z2['PU242'].values[0]/1000))      "
   ]
  },
  {
   "cell_type": "code",
   "execution_count": 130,
   "metadata": {},
   "outputs": [
    {
     "data": {
      "text/plain": [
       "<matplotlib.legend.Legend at 0x255251e09a0>"
      ]
     },
     "execution_count": 130,
     "metadata": {},
     "output_type": "execute_result"
    },
    {
     "data": {
      "image/png": "[encoded data removed]",
      "text/plain": [
       "<Figure size 432x288 with 1 Axes>"
      ]
     },
     "metadata": {
      "needs_background": "light"
     },
     "output_type": "display_data"
    }
   ],
   "source": [
    "plt.plot(BU_range, (PU239+PU241)/(PU240+PU242), label='FissilePU/NonFissilePU')\n",
    "#plt.plot(BU_range, PU240, label='PU240')\n",
    "#plt.plot(BU_range, PU241, label='PU241')\n",
    "#plt.plot(BU_range, PU242, label='PU242')\n",
    "plt.legend()"
   ]
  },
  {
   "cell_type": "code",
   "execution_count": null,
   "metadata": {},
   "outputs": [],
   "source": []
  }
 ],
 "metadata": {
  "kernelspec": {
   "display_name": "base",
   "language": "python",
   "name": "python3"
  },
  "language_info": {
   "codemirror_mode": {
    "name": "ipython",
    "version": 3
   },
   "file_extension": ".py",
   "mimetype": "text/x-python",
   "name": "python",
   "nbconvert_exporter": "python",
   "pygments_lexer": "ipython3",
   "version": "3.9.7"
  }
 },
 "nbformat": 4,
 "nbformat_minor": 2
}
