{
 "cells": [
  {
   "cell_type": "code",
   "execution_count": 6,
   "metadata": {},
   "outputs": [],
   "source": [
    "import numpy as np\n",
    "import scipy as sp\n",
    "import math"
   ]
  },
  {
   "cell_type": "code",
   "execution_count": 7,
   "metadata": {},
   "outputs": [],
   "source": [
    "DISCOUNT_RATES = [0.02, 0.05]\n",
    "\n",
    "def storm_probability(lam, k):\n",
    "    return (lam ** k) * np.exp(-lam) / math.factorial(k)\n",
    "\n",
    "def fragility_curve(x, c1, c2)\n",
    "    return c1 * np.exp(-c2 * x)\n",
    "\n",
    "def discount_Value(discount_rate, t):\n",
    "    return 1/(1+discount_rate)**t\n",
    "\n",
    "def calc_storm_cost(lam, k, x, c1, c2, cost, discount, years):\n",
    "    total_cost = 0\n",
    "    for y in range(years):\n",
    "        total_cost += storm_probability(lam, k) * fragility_curve(x, c1, c2) * cost * discount_value(discount, y)\n",
    "    return total_cost"
   ]
  },
  {
   "cell_type": "code",
   "execution_count": 8,
   "metadata": {},
   "outputs": [],
   "source": [
    "\n",
    "\n",
    "\n"
   ]
  },
  {
   "cell_type": "code",
   "execution_count": 9,
   "metadata": {},
   "outputs": [
    {
     "data": {
      "text/plain": [
       "0.07384930771093086"
      ]
     },
     "execution_count": 9,
     "metadata": {},
     "output_type": "execute_result"
    }
   ],
   "source": [
    "storm_probability(0.08, 1)"
   ]
  },
  {
   "cell_type": "code",
   "execution_count": null,
   "metadata": {},
   "outputs": [],
   "source": []
  }
 ],
 "metadata": {
  "kernelspec": {
   "display_name": "base",
   "language": "python",
   "name": "python3"
  },
  "language_info": {
   "codemirror_mode": {
    "name": "ipython",
    "version": 3
   },
   "file_extension": ".py",
   "mimetype": "text/x-python",
   "name": "python",
   "nbconvert_exporter": "python",
   "pygments_lexer": "ipython3",
   "version": "3.9.7"
  }
 },
 "nbformat": 4,
 "nbformat_minor": 2
}
