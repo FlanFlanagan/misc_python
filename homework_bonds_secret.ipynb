{
 "cells": [
  {
   "cell_type": "code",
   "execution_count": 5,
   "metadata": {},
   "outputs": [],
   "source": [
    "import numpy as np\n",
    "import scipy.stats as stats\n",
    "import matplotlib.pyplot as plt\n",
    "import random\n",
    "import pandas as pd\n",
    "import math"
   ]
  },
  {
   "cell_type": "code",
   "execution_count": 14,
   "metadata": {},
   "outputs": [],
   "source": [
    "def NPV(F:float=1000, C:float=100, rates:list=[]):\n",
    "    time = len(rates)\n",
    "    V_coupons = calc_coupons(C, rates, time)\n",
    "    V_face = calc_f(F, rates, time)\n",
    "    return V_coupons + V_face\n",
    "\n",
    "def calc_f(F:float, rates:list, time:int):\n",
    "    V_face = 1\n",
    "    for r in rates:\n",
    "        V_face *= ((1+r))\n",
    "    return F/V_face\n",
    "\n",
    "def calc_coupons(C: float, rates: list, time: int):\n",
    "    V_coupons = [0]\n",
    "    for t in range(time):\n",
    "        V_coup = 1\n",
    "        for r in rates[t:]:\n",
    "            V_coup *= (1+r)\n",
    "        V_coupons.append(C/V_coup)\n",
    "    return sum(V_coupons)\n",
    "\n",
    "def build_hist(array):\n",
    "    n1 = int(1+3.3*np.log2(len(array)))\n",
    "    bins = np.linspace((array.min()),(array.max()),n1)\n",
    "    data = np.histogram(array, bins=bins)\n",
    "    hist_dist = stats.rv_histogram(data)\n",
    "    return hist_dist\n",
    "\n",
    "def sample_hist(histogram, random_value):\n",
    "    return histogram.ppf(random_value)\n",
    "\n",
    "def plot_chist(array, color='g'):\n",
    "    n1 = int(1+3.3*np.log2(len(array)))\n",
    "    n, bins, patches = plt.hist(array, n1, cumulative=True, density=True, facecolor=color, alpha=0.75)\n",
    "\n",
    "def plot_hist(array, color='g'):\n",
    "    n1 = int(1+3.3*np.log2(len(array)))\n",
    "    n, bins, patches = plt.hist(array, n1, cumulative=False, density=False, facecolor=color, alpha=0.75)"
   ]
  },
  {
   "cell_type": "markdown",
   "metadata": {},
   "source": [
    "Problem 1 Hints: First you will need to edit the NPV, calc_f, and calc_coupons functions to accept an array of rates as opposed to a constant. Recall in class that it was pointed out that (1+r)^t is just (1+r) times itself t times. \n",
    "See the formulas we developed in class for more information about converting the constant value equations to variable rates."
   ]
  },
  {
   "cell_type": "markdown",
   "metadata": {},
   "source": [
    "Problem 2 Hints: The method for reading in the file and converting it into an array (main_int) is already set up for you. You will need to run the array through the histogram function to create a histogram object. The plotting tools will generate figures for you if needed. You will need to sample the histogram object to geneate the random array. Recall we used a random value from a uniform distribution to sample the histogram.   "
   ]
  },
  {
   "cell_type": "code",
   "execution_count": 60,
   "metadata": {},
   "outputs": [
    {
     "data": {
      "text/plain": [
       "1001.8476069945391"
      ]
     },
     "execution_count": 60,
     "metadata": {},
     "output_type": "execute_result"
    }
   ],
   "source": [
    "#Work for problem two here please\n",
    "rates = pd.read_csv('interest_rates.csv')\n",
    "main_int = np.array(rates['Total'])/100\n",
    "runs = 10000\n",
    "years = 10\n",
    "face = 1000\n",
    "coupon = 35.68\n",
    "histogram = build_hist(main_int)\n",
    "vals = np.zeros(runs)\n",
    "for j in range(runs):\n",
    "    rates = np.zeros(years)\n",
    "    for i in range(years):\n",
    "        rates[i] = sample_hist(histogram, np.random.random())\n",
    "    vals[j] = NPV(face, coupon, rates)\n",
    "vals.mean()\n"
   ]
  },
  {
   "cell_type": "code",
   "execution_count": 58,
   "metadata": {},
   "outputs": [
    {
     "data": {
      "text/plain": [
       "(array([  33.,  264.,  969., 2151., 2741., 2189., 1167.,  405.,   77.,\n",
       "           4.]),\n",
       " array([ 910.91805819,  930.70535859,  950.49265899,  970.27995939,\n",
       "         990.06725979, 1009.85456018, 1029.64186058, 1049.42916098,\n",
       "        1069.21646138, 1089.00376178, 1108.79106218]),\n",
       " <BarContainer object of 10 artists>)"
      ]
     },
     "execution_count": 58,
     "metadata": {},
     "output_type": "execute_result"
    },
    {
     "data": {
      "image/png": "[encoded data removed]",
      "text/plain": [
       "<Figure size 432x288 with 1 Axes>"
      ]
     },
     "metadata": {
      "needs_background": "light"
     },
     "output_type": "display_data"
    }
   ],
   "source": [
    "plt.hist(vals)"
   ]
  },
  {
   "cell_type": "code",
   "execution_count": 59,
   "metadata": {},
   "outputs": [
    {
     "data": {
      "text/plain": [
       "0.03577333333333333"
      ]
     },
     "execution_count": 59,
     "metadata": {},
     "output_type": "execute_result"
    }
   ],
   "source": [
    "main_int.mean()"
   ]
  },
  {
   "cell_type": "code",
   "execution_count": null,
   "metadata": {},
   "outputs": [],
   "source": []
  }
 ],
 "metadata": {
  "kernelspec": {
   "display_name": "Python 3.8.5",
   "language": "python",
   "name": "python3"
  },
  "language_info": {
   "codemirror_mode": {
    "name": "ipython",
    "version": 3
   },
   "file_extension": ".py",
   "mimetype": "text/x-python",
   "name": "python",
   "nbconvert_exporter": "python",
   "pygments_lexer": "ipython3",
   "version": "3.9.7"
  },
  "orig_nbformat": 4,
  "vscode": {
   "interpreter": {
    "hash": "82f14fe2003da70bc1fe11e31edd716f7a8c4ce9ac686320d97628cbeb00c18e"
   }
  }
 },
 "nbformat": 4,
 "nbformat_minor": 2
}
