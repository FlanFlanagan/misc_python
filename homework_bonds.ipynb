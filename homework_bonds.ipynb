{
 "cells": [
  {
   "cell_type": "code",
   "execution_count": 2,
   "metadata": {},
   "outputs": [],
   "source": [
    "import numpy as np\n",
    "import scipy.stats as stats\n",
    "import matplotlib.pyplot as plt\n",
    "import random\n",
    "import pandas as pd\n",
    "import math"
   ]
  },
  {
   "cell_type": "code",
   "execution_count": 9,
   "metadata": {},
   "outputs": [],
   "source": [
    "def PV1(hist, F:float=1000, C:float=100, time:int=30, delta_t=1):\n",
    "    int_rates = []\n",
    "    for _ in range(time):\n",
    "        sample = random.random()\n",
    "        int_rates.append(int_hist.ppf(sample)/100)\n",
    "    V_coupons = calc_coupons1(C, int_rates, time, delta_t)\n",
    "    V_face = calc_f1(F, int_rates, time)\n",
    "    return V_coupons + V_face\n",
    "\n",
    "def calc_f1(F:float=1000, r:list = [0], time:int=30):\n",
    "    denom = 1\n",
    "    for i in r:\n",
    "        denom *= (1+i) \n",
    "    V_face = F/denom\n",
    "    return V_face\n",
    "\n",
    "def calc_coupons1(C: float, r: list, time: int, delta_t:int):\n",
    "    V_coupons = [0]\n",
    "    denom = []\n",
    "    for i in r:\n",
    "        denom.append(1+i)\n",
    "    denom=np.cumprod(denom)\n",
    "    for i in denom:\n",
    "        V_coupons.append(C/i)\n",
    "    return sum(V_coupons)\n",
    "\n",
    "def build_hist(array):\n",
    "    n1 = int(1+3.3*np.log2(len(array)))\n",
    "    bins = np.linspace((array.min()),(array.max()),n1)\n",
    "    data = np.histogram(array, bins=bins)\n",
    "    hist_dist = stats.rv_histogram(data)\n",
    "    return hist_dist\n",
    "\n",
    "def plot_chist(array, color='g'):\n",
    "    n1 = int(1+3.3*np.log2(len(array)))\n",
    "    n, bins, patches = plt.hist(array, n1, cumulative=True, density=True, facecolor=color, alpha=0.75)\n",
    "\n",
    "def plot_hist(array, color='g'):\n",
    "    n1 = int(1+3.3*np.log2(len(array)))\n",
    "    n, bins, patches = plt.hist(array, n1, cumulative=False, density=False, facecolor=color, alpha=0.75)"
   ]
  },
  {
   "cell_type": "code",
   "execution_count": 11,
   "metadata": {},
   "outputs": [
    {
     "data": {
      "text/plain": [
       "1020.8538903748587"
      ]
     },
     "execution_count": 11,
     "metadata": {},
     "output_type": "execute_result"
    }
   ],
   "source": [
    "interest=pd.read_csv('interest_rates.csv')\n",
    "main_int = np.array(interest['Total'])\n",
    "int_hist=build_hist(main_int)\n",
    "pv_vals = []\n",
    "for _ in range(1000):\n",
    "    pv_vals.append(PV1(int_hist, F=1000, C=40, time=5))\n",
    "pv_vals = np.array(pv_vals)\n",
    "pv_vals.mean()"
   ]
  },
  {
   "cell_type": "code",
   "execution_count": null,
   "metadata": {},
   "outputs": [],
   "source": []
  }
 ],
 "metadata": {
  "interpreter": {
   "hash": "08e22090370f7fd3dbace8f8aef1df0cf9eabcd8bf4d2a7abfe5b695578b5243"
  },
  "kernelspec": {
   "display_name": "Python 3.8.5 64-bit (conda)",
   "name": "python3"
  },
  "language_info": {
   "codemirror_mode": {
    "name": "ipython",
    "version": 3
   },
   "file_extension": ".py",
   "mimetype": "text/x-python",
   "name": "python",
   "nbconvert_exporter": "python",
   "pygments_lexer": "ipython3",
   "version": "3.8.5"
  },
  "orig_nbformat": 4
 },
 "nbformat": 4,
 "nbformat_minor": 2
}
