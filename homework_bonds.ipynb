{
 "cells": [
  {
   "cell_type": "code",
   "execution_count": 2,
   "metadata": {},
   "outputs": [],
   "source": [
    "import numpy as np\n",
    "import scipy.stats as stats\n",
    "import matplotlib.pyplot as plt\n",
    "import random\n",
    "import pandas as pd\n",
    "import math"
   ]
  },
  {
   "cell_type": "code",
   "execution_count": 13,
   "metadata": {},
   "outputs": [],
   "source": [
    "def NPV(F:float=1000, C:float=100, r:float=0.1, time:int=30):\n",
    "    V_coupons = calc_coupons(C, r, time)\n",
    "    V_face = calc_f(F, r, time)\n",
    "    return V_coupons + V_face\n",
    "\n",
    "def calc_f(F:float=1000, r:float=0.1, time:int=30):\n",
    "    V_face = F/((1+r)**time)\n",
    "    return V_face\n",
    "\n",
    "def calc_coupons(C: float, r: float, time: int):\n",
    "    V_coupons = [0]\n",
    "    for t in range(1, time+1):\n",
    "        V_coupons.append(C/((1+r)**t))\n",
    "    return sum(V_coupons)\n",
    "\n",
    "def build_hist(array):\n",
    "    n1 = int(1+3.3*np.log2(len(array)))\n",
    "    bins = np.linspace((array.min()),(array.max()),n1)\n",
    "    data = np.histogram(array, bins=bins)\n",
    "    hist_dist = stats.rv_histogram(data)\n",
    "    return hist_dist\n",
    "\n",
    "def sample_hist(histogram, random_value):\n",
    "    return histogram.ppf(random_value)\n",
    "\n",
    "def plot_chist(array, color='g'):\n",
    "    n1 = int(1+3.3*np.log2(len(array)))\n",
    "    n, bins, patches = plt.hist(array, n1, cumulative=True, density=True, facecolor=color, alpha=0.75)\n",
    "\n",
    "def plot_hist(array, color='g'):\n",
    "    n1 = int(1+3.3*np.log2(len(array)))\n",
    "    n, bins, patches = plt.hist(array, n1, cumulative=False, density=False, facecolor=color, alpha=0.75)"
   ]
  },
  {
   "cell_type": "markdown",
   "metadata": {},
   "source": [
    "Problem 1 Hints: First you will need to edit the NPV, calc_f, and calc_coupons functions to accept an array of rates as opposed to a constant. Recall in class that it was pointed out that (1+r)^t is just (1+r) times itself t times. \n",
    "See the formulas we developed in class for more information about converting the constant value equations to variable rates."
   ]
  },
  {
   "cell_type": "code",
   "execution_count": null,
   "metadata": {},
   "outputs": [],
   "source": [
    "#Put the modified functions here."
   ]
  },
  {
   "cell_type": "markdown",
   "metadata": {},
   "source": [
    "Problem 2 Hints: The method for reading in the file and converting it into an array (main_int) is already set up for you. You will need to run the array through the histogram function to create a histogram object. The plotting tools will generate figures for you if needed. You will need to sample the histogram object to geneate the random array. Recall we used a random value from a uniform distribution to sample the histogram.   "
   ]
  },
  {
   "cell_type": "code",
   "execution_count": 16,
   "metadata": {},
   "outputs": [],
   "source": [
    "#Work for problem two here please\n",
    "rates = pd.read_csv('interest_rates.csv')\n",
    "main_int = np.array(rates['Total'])/100"
   ]
  },
  {
   "cell_type": "code",
   "execution_count": 2,
   "metadata": {},
   "outputs": [
    {
     "data": {
      "text/plain": [
       "array([0.72987792, 0.40822424, 0.33323697, 0.10458648, 0.44918265,\n",
       "       0.55411854, 0.52172337, 0.48147167, 0.56996742, 0.14927838])"
      ]
     },
     "execution_count": 2,
     "metadata": {},
     "output_type": "execute_result"
    }
   ],
   "source": [
    "import numpy as np\n",
    "histogram = build_hist(main_int)\n",
    "rans = np.random.random(10)\n",
    "for i in range(len(rans)):\n"
   ]
  },
  {
   "cell_type": "code",
   "execution_count": null,
   "metadata": {},
   "outputs": [],
   "source": []
  }
 ],
 "metadata": {
  "kernelspec": {
   "display_name": "Python 3.8.5",
   "language": "python",
   "name": "python3"
  },
  "language_info": {
   "codemirror_mode": {
    "name": "ipython",
    "version": 3
   },
   "file_extension": ".py",
   "mimetype": "text/x-python",
   "name": "python",
   "nbconvert_exporter": "python",
   "pygments_lexer": "ipython3",
   "version": "3.9.7"
  },
  "orig_nbformat": 4,
  "vscode": {
   "interpreter": {
    "hash": "82f14fe2003da70bc1fe11e31edd716f7a8c4ce9ac686320d97628cbeb00c18e"
   }
  }
 },
 "nbformat": 4,
 "nbformat_minor": 2
}
