{
 "cells": [
  {
   "cell_type": "code",
   "execution_count": 283,
   "source": [
    "import numpy as np\r\n",
    "import scipy.stats as stats\r\n",
    "import matplotlib.pyplot as plt\r\n",
    "import random\r\n",
    "import pandas as pd\r\n",
    "import math"
   ],
   "outputs": [],
   "metadata": {}
  },
  {
   "cell_type": "code",
   "execution_count": 409,
   "source": [
    "def PV(F:float=1000, C:float=100, r:float=0.1, time:int=30, delta_t=1):\r\n",
    "    V_coupons = calc_coupons(C, r, time, delta_t)\r\n",
    "    V_face = calc_f(F, r, time)\r\n",
    "    # return sum(V_coupons) + V_face\r\n",
    "    return V_coupons + V_face\r\n",
    "\r\n",
    "def calc_f(F:float=1000, r:float=0.1, time:int=30):\r\n",
    "    V_face = F/((1+r)**time)\r\n",
    "    return V_face\r\n",
    "\r\n",
    "def calc_coupons(C: float, r: float, time: int, delta_t:int):\r\n",
    "    if r == 0:\r\n",
    "        V_coupons = C*time\r\n",
    "        return V_coupons\r\n",
    "    V_coupons = C* (1-(1/(1+r)**time))/r\r\n",
    "    return V_coupons\r\n",
    "\r\n",
    "def calc_coupons1(C: float, r: float, time: int, delta_t:int):\r\n",
    "    V_coupons = [0]\r\n",
    "    for t in np.arange(0, time, delta_t):\r\n",
    "        V_coupons.append(C/((1+r)**(t)))\r\n",
    "    return np.cumsum(V_coupons)\r\n",
    "\r\n",
    "def calc_coupons_exp(C: float, r: float, time: int, delta_t:int):\r\n",
    "    PV = [0]\r\n",
    "    for t in np.arange(0, time, delta_t):\r\n",
    "        PV.append(C * np.exp(-r*t))\r\n",
    "    return PV\r\n",
    "\r\n",
    "def PV_exp(F=1000., C=100., r=0.1, time:int=30, delta_t=1.0):\r\n",
    "    PV = 0\r\n",
    "    for t in np.arange(0, time, delta_t):\r\n",
    "        PV += C * np.exp(-r*t)\r\n",
    "    PV += F*np.exp(-r*(time))\r\n",
    "    return PV"
   ],
   "outputs": [],
   "metadata": {}
  },
  {
   "cell_type": "code",
   "execution_count": 430,
   "source": [
    "def build_hist(array):\r\n",
    "    n1 = int(1+3.3*np.log2(len(array)))\r\n",
    "    bins = np.linspace((array.min()),(array.max()),n1)\r\n",
    "    data = np.histogram(array, bins=bins)\r\n",
    "    hist_dist = stats.rv_histogram(data)\r\n",
    "    return hist_dist\r\n",
    "\r\n",
    "def plot_chist(array, color='g'):\r\n",
    "    n1 = int(1+3.3*np.log2(len(array)))\r\n",
    "    n, bins, patches = plt.hist(array, n1, cumulative=True, density=True, facecolor=color, alpha=0.75)\r\n",
    "\r\n",
    "def plot_hist(array, color='g'):\r\n",
    "    n1 = int(1+3.3*np.log2(len(array)))\r\n",
    "    n, bins, patches = plt.hist(array, n1, cumulative=False, density=False, facecolor=color, alpha=0.75)"
   ],
   "outputs": [],
   "metadata": {}
  },
  {
   "cell_type": "code",
   "execution_count": 431,
   "source": [
    "print(PV(F=1000, C=100, r=0.1, time=5))\r\n",
    "print(PV(F=1000, C=100, r=0.08, time=5))\r\n",
    "print(PV(F=1000, C=100, r=0.12, time=5))"
   ],
   "outputs": [
    {
     "output_type": "stream",
     "name": "stdout",
     "text": [
      "1000.0\n",
      "1079.8542007415617\n",
      "927.9044759530999\n"
     ]
    }
   ],
   "metadata": {}
  },
  {
   "cell_type": "code",
   "execution_count": 432,
   "source": [
    "interest=pd.read_csv('interest_rates.csv')\r\n",
    "main_int = np.array(interest['Total'])"
   ],
   "outputs": [],
   "metadata": {}
  },
  {
   "cell_type": "code",
   "execution_count": 433,
   "source": [
    "plot_hist(main_int)"
   ],
   "outputs": [
    {
     "output_type": "display_data",
     "data": {
      "image/png": "[encoded data removed]",
      "text/plain": [
       "<Figure size 432x288 with 1 Axes>"
      ]
     },
     "metadata": {
      "needs_background": "light"
     }
    }
   ],
   "metadata": {}
  },
  {
   "cell_type": "code",
   "execution_count": 434,
   "source": [
    "plot_chist(main_int)"
   ],
   "outputs": [
    {
     "output_type": "display_data",
     "data": {
      "image/png": "[encoded data removed]",
      "text/plain": [
       "<Figure size 432x288 with 1 Axes>"
      ]
     },
     "metadata": {
      "needs_background": "light"
     }
    }
   ],
   "metadata": {}
  },
  {
   "cell_type": "code",
   "execution_count": 370,
   "source": [
    "int_hist=build_hist(main_int)\r\n",
    "int_rates = []\r\n",
    "for i in range(10000):\r\n",
    "    sample = random.random()\r\n",
    "    int_rates.append(int_hist.ppf(sample))\r\n",
    "int_rates = np.array(int_rates)\r\n",
    "pvs = []\r\n",
    "for r in int_rates:\r\n",
    "    pvs.append(PV(F=1000, C=100, r=r/100, time=10))\r\n",
    "x = np.array(pvs)\r\n",
    "print(x.mean())"
   ],
   "outputs": [
    {
     "output_type": "stream",
     "name": "stdout",
     "text": [
      "1539.8460154803668\n"
     ]
    }
   ],
   "metadata": {}
  },
  {
   "cell_type": "code",
   "execution_count": 435,
   "source": [
    "PV(F=1000, C=100, r=0.0, time=10)"
   ],
   "outputs": [
    {
     "output_type": "error",
     "ename": "ZeroDivisionError",
     "evalue": "float division by zero",
     "traceback": [
      "\u001b[1;31m---------------------------------------------------------------------------\u001b[0m",
      "\u001b[1;31mZeroDivisionError\u001b[0m                         Traceback (most recent call last)",
      "\u001b[1;32m<ipython-input-435-60512b0aa322>\u001b[0m in \u001b[0;36m<module>\u001b[1;34m\u001b[0m\n\u001b[1;32m----> 1\u001b[1;33m \u001b[0mPV\u001b[0m\u001b[1;33m(\u001b[0m\u001b[0mF\u001b[0m\u001b[1;33m=\u001b[0m\u001b[1;36m1000\u001b[0m\u001b[1;33m,\u001b[0m \u001b[0mC\u001b[0m\u001b[1;33m=\u001b[0m\u001b[1;36m100\u001b[0m\u001b[1;33m,\u001b[0m \u001b[0mr\u001b[0m\u001b[1;33m=\u001b[0m\u001b[1;36m0.0\u001b[0m\u001b[1;33m,\u001b[0m \u001b[0mtime\u001b[0m\u001b[1;33m=\u001b[0m\u001b[1;36m10\u001b[0m\u001b[1;33m)\u001b[0m\u001b[1;33m\u001b[0m\u001b[1;33m\u001b[0m\u001b[0m\n\u001b[0m",
      "\u001b[1;32m<ipython-input-409-4cea12db2743>\u001b[0m in \u001b[0;36mPV\u001b[1;34m(F, C, r, time, delta_t)\u001b[0m\n\u001b[0;32m      7\u001b[0m \u001b[1;33m\u001b[0m\u001b[0m\n\u001b[0;32m      8\u001b[0m \u001b[1;32mdef\u001b[0m \u001b[0mPV\u001b[0m\u001b[1;33m(\u001b[0m\u001b[0mF\u001b[0m\u001b[1;33m:\u001b[0m \u001b[0mfloat\u001b[0m\u001b[1;33m=\u001b[0m\u001b[1;36m1000\u001b[0m\u001b[1;33m,\u001b[0m \u001b[0mC\u001b[0m\u001b[1;33m:\u001b[0m \u001b[0mfloat\u001b[0m\u001b[1;33m=\u001b[0m\u001b[1;36m100\u001b[0m\u001b[1;33m,\u001b[0m \u001b[0mr\u001b[0m\u001b[1;33m:\u001b[0m \u001b[0mfloat\u001b[0m\u001b[1;33m=\u001b[0m\u001b[1;36m0.1\u001b[0m\u001b[1;33m,\u001b[0m \u001b[0mtime\u001b[0m\u001b[1;33m:\u001b[0m\u001b[0mint\u001b[0m\u001b[1;33m=\u001b[0m\u001b[1;36m30\u001b[0m\u001b[1;33m,\u001b[0m \u001b[0mdelta_t\u001b[0m\u001b[1;33m=\u001b[0m\u001b[1;36m1\u001b[0m\u001b[1;33m)\u001b[0m\u001b[1;33m:\u001b[0m\u001b[1;33m\u001b[0m\u001b[1;33m\u001b[0m\u001b[0m\n\u001b[1;32m----> 9\u001b[1;33m     \u001b[0mV_coupons\u001b[0m \u001b[1;33m=\u001b[0m \u001b[0mcalc_coupons\u001b[0m\u001b[1;33m(\u001b[0m\u001b[0mC\u001b[0m\u001b[1;33m,\u001b[0m \u001b[0mr\u001b[0m\u001b[1;33m,\u001b[0m \u001b[0mtime\u001b[0m\u001b[1;33m,\u001b[0m \u001b[0mdelta_t\u001b[0m\u001b[1;33m)\u001b[0m\u001b[1;33m\u001b[0m\u001b[1;33m\u001b[0m\u001b[0m\n\u001b[0m\u001b[0;32m     10\u001b[0m     \u001b[0mV_face\u001b[0m \u001b[1;33m=\u001b[0m \u001b[0mcalc_f\u001b[0m\u001b[1;33m(\u001b[0m\u001b[0mF\u001b[0m\u001b[1;33m,\u001b[0m \u001b[0mr\u001b[0m\u001b[1;33m,\u001b[0m \u001b[0mtime\u001b[0m\u001b[1;33m)\u001b[0m\u001b[1;33m\u001b[0m\u001b[1;33m\u001b[0m\u001b[0m\n\u001b[0;32m     11\u001b[0m     \u001b[1;31m# return sum(V_coupons) + V_face\u001b[0m\u001b[1;33m\u001b[0m\u001b[1;33m\u001b[0m\u001b[1;33m\u001b[0m\u001b[0m\n",
      "\u001b[1;32m<ipython-input-409-4cea12db2743>\u001b[0m in \u001b[0;36mcalc_coupons\u001b[1;34m(C, r, time, delta_t)\u001b[0m\n\u001b[0;32m     13\u001b[0m \u001b[1;33m\u001b[0m\u001b[0m\n\u001b[0;32m     14\u001b[0m \u001b[1;32mdef\u001b[0m \u001b[0mcalc_coupons\u001b[0m\u001b[1;33m(\u001b[0m\u001b[0mC\u001b[0m\u001b[1;33m:\u001b[0m \u001b[0mfloat\u001b[0m\u001b[1;33m,\u001b[0m \u001b[0mr\u001b[0m\u001b[1;33m:\u001b[0m \u001b[0mfloat\u001b[0m\u001b[1;33m,\u001b[0m \u001b[0mtime\u001b[0m\u001b[1;33m:\u001b[0m \u001b[0mint\u001b[0m\u001b[1;33m,\u001b[0m \u001b[0mdelta_t\u001b[0m\u001b[1;33m:\u001b[0m\u001b[0mint\u001b[0m\u001b[1;33m)\u001b[0m\u001b[1;33m:\u001b[0m\u001b[1;33m\u001b[0m\u001b[1;33m\u001b[0m\u001b[0m\n\u001b[1;32m---> 15\u001b[1;33m     \u001b[0mV_coupons\u001b[0m \u001b[1;33m=\u001b[0m \u001b[0mC\u001b[0m\u001b[1;33m*\u001b[0m \u001b[1;33m(\u001b[0m\u001b[1;36m1\u001b[0m\u001b[1;33m-\u001b[0m\u001b[1;33m(\u001b[0m\u001b[1;36m1\u001b[0m\u001b[1;33m/\u001b[0m\u001b[1;33m(\u001b[0m\u001b[1;36m1\u001b[0m\u001b[1;33m+\u001b[0m\u001b[0mr\u001b[0m\u001b[1;33m)\u001b[0m\u001b[1;33m**\u001b[0m\u001b[0mtime\u001b[0m\u001b[1;33m)\u001b[0m\u001b[1;33m)\u001b[0m\u001b[1;33m/\u001b[0m\u001b[0mr\u001b[0m\u001b[1;33m\u001b[0m\u001b[1;33m\u001b[0m\u001b[0m\n\u001b[0m\u001b[0;32m     16\u001b[0m     \u001b[1;32mreturn\u001b[0m \u001b[0mV_coupons\u001b[0m\u001b[1;33m\u001b[0m\u001b[1;33m\u001b[0m\u001b[0m\n\u001b[0;32m     17\u001b[0m \u001b[1;33m\u001b[0m\u001b[0m\n",
      "\u001b[1;31mZeroDivisionError\u001b[0m: float division by zero"
     ]
    }
   ],
   "metadata": {}
  },
  {
   "cell_type": "code",
   "execution_count": null,
   "source": [
    "stocks=pd.read_csv('stock_returns.csv')\r\n",
    "SP = np.array(stocks['SP'])\r\n",
    "DOW = np.array(stocks['DOW'])\r\n",
    "NAS = np.array(stocks['Nasdaq'])\r\n",
    "runs = 10000\r\n",
    "plot_hist(NAS)\r\n",
    "#plot_chist(SP, color='b')"
   ],
   "outputs": [
    {
     "output_type": "display_data",
     "data": {
      "image/png": "[encoded data removed]",
      "text/plain": [
       "<Figure size 432x288 with 1 Axes>"
      ]
     },
     "metadata": {
      "needs_background": "light"
     }
    }
   ],
   "metadata": {}
  },
  {
   "cell_type": "code",
   "execution_count": 361,
   "source": [
    "SP_hist=build_hist(SP)\r\n",
    "sp_rates = np.zeros(runs)\r\n",
    "samples = np.zeros(runs)\r\n",
    "for i in range(runs):\r\n",
    "    sample = random.random()\r\n",
    "    sp_rates[i] = SP_hist.ppf(sample)\r\n",
    "    samples[i] = SP_hist.cdf(sample)\r\n",
    "pvs = []\r\n",
    "test = []\r\n",
    "for r in sp_rates:\r\n",
    "    pvs.append(PV(F=1000, C=100, r=r, time=10))\r\n",
    "    test.append(1000*(1+r)**10)\r\n",
    "x = np.array(pvs)\r\n",
    "test = np.array(test)\r\n",
    "print(x.mean())"
   ],
   "outputs": [
    {
     "output_type": "stream",
     "name": "stdout",
     "text": [
      "4152.797106100562\n"
     ]
    }
   ],
   "metadata": {}
  },
  {
   "cell_type": "code",
   "execution_count": 351,
   "source": [
    "DOW_hist=build_hist(DOW)\r\n",
    "dow_rates = np.zeros(runs)\r\n",
    "samples = np.zeros(runs)\r\n",
    "for i in range(runs):\r\n",
    "    sample = random.random()\r\n",
    "    dow_rates[i] = (DOW_hist.ppf(sample))\r\n",
    "    samples[i] = DOW_hist.cdf(sample)\r\n",
    "pvs = []\r\n",
    "for r in dow_rates:\r\n",
    "    pvs.append(PV(F=1000, C=100, r=r, time=10))\r\n",
    "x = np.array(pvs)\r\n",
    "print(x.mean())"
   ],
   "outputs": [
    {
     "output_type": "stream",
     "name": "stdout",
     "text": [
      "3151.5477546093844\n"
     ]
    }
   ],
   "metadata": {}
  },
  {
   "cell_type": "code",
   "execution_count": 350,
   "source": [
    "NAS_hist=build_hist(NAS)\r\n",
    "nas_rates = np.zeros(runs)\r\n",
    "samples = np.zeros(runs)\r\n",
    "for i in range(runs):\r\n",
    "    sample = random.random()\r\n",
    "    nas_rates[i] = NAS_hist.ppf(sample)\r\n",
    "    samples[i] = NAS_hist.cdf(sample)\r\n",
    "pvs = []\r\n",
    "for r in nas_rates:\r\n",
    "    pvs.append(PV(F=1000, C=100, r=r, time=10))\r\n",
    "x = np.array(pvs)\r\n",
    "print(x.mean())"
   ],
   "outputs": [
    {
     "output_type": "stream",
     "name": "stdout",
     "text": [
      "11167.559389504046\n"
     ]
    }
   ],
   "metadata": {}
  },
  {
   "cell_type": "code",
   "execution_count": 427,
   "source": [
    "m = []\r\n",
    "m3 = []\r\n",
    "ran = np.arange(0, 20, 1)\r\n",
    "for r in ran:\r\n",
    "    m.append(calc_coupons(C=100, r=0.1, time=r, delta_t=1))\r\n",
    "    m3.append(calc_f(F=1000, r=0.1, time=r))\r\n",
    "plt.xlabel('Years')\r\n",
    "plt.ylabel('value')\r\n",
    "plt.plot(ran, m, label=\"Face Value\")\r\n",
    "plt.plot(ran, m3, label='Coupon Value')\r\n",
    "plt.legend()"
   ],
   "outputs": [
    {
     "output_type": "execute_result",
     "data": {
      "text/plain": [
       "<matplotlib.legend.Legend at 0x1de6e6e2088>"
      ]
     },
     "metadata": {},
     "execution_count": 427
    },
    {
     "output_type": "display_data",
     "data": {
      "image/png": "[encoded data removed]",
      "text/plain": [
       "<Figure size 432x288 with 1 Axes>"
      ]
     },
     "metadata": {
      "needs_background": "light"
     }
    }
   ],
   "metadata": {}
  },
  {
   "cell_type": "code",
   "execution_count": 424,
   "source": [
    "ran1 = np.arange(0, 20, 1)\r\n",
    "m1 = np.cumsum(calc_coupons_exp(C=100, r=0.2, time=19, delta_t=1))\r\n",
    "plt.xlabel('Years')\r\n",
    "plt.ylabel('Coupon value')\r\n",
    "plt.plot(ran1, m1)"
   ],
   "outputs": [
    {
     "output_type": "execute_result",
     "data": {
      "text/plain": [
       "[<matplotlib.lines.Line2D at 0x1de6e57a488>]"
      ]
     },
     "metadata": {},
     "execution_count": 424
    },
    {
     "output_type": "display_data",
     "data": {
      "image/png": "[encoded data removed]",
      "text/plain": [
       "<Figure size 432x288 with 1 Axes>"
      ]
     },
     "metadata": {
      "needs_background": "light"
     }
    }
   ],
   "metadata": {}
  },
  {
   "cell_type": "code",
   "execution_count": 418,
   "source": [
    "m2 = calc_coupons1(C=100, r=0.2, time=19, delta_t=1)\r\n",
    "plt.xlabel('Years')\r\n",
    "plt.ylabel('Face value')\r\n",
    "plt.plot(ran, m2)"
   ],
   "outputs": [
    {
     "output_type": "execute_result",
     "data": {
      "text/plain": [
       "[<matplotlib.lines.Line2D at 0x1de6cc12588>]"
      ]
     },
     "metadata": {},
     "execution_count": 418
    },
    {
     "output_type": "display_data",
     "data": {
      "image/png": "[encoded data removed]",
      "text/plain": [
       "<Figure size 432x288 with 1 Axes>"
      ]
     },
     "metadata": {
      "needs_background": "light"
     }
    }
   ],
   "metadata": {}
  }
 ],
 "metadata": {
  "orig_nbformat": 4,
  "language_info": {
   "name": "python",
   "version": "3.7.4",
   "mimetype": "text/x-python",
   "codemirror_mode": {
    "name": "ipython",
    "version": 3
   },
   "pygments_lexer": "ipython3",
   "nbconvert_exporter": "python",
   "file_extension": ".py"
  },
  "kernelspec": {
   "name": "python3",
   "display_name": "Python 3.7.4 64-bit ('base': conda)"
  },
  "interpreter": {
   "hash": "a8f61be024eba58adef938c9aa1e29e02cb3dece83a5348b1a2dafd16a070453"
  }
 },
 "nbformat": 4,
 "nbformat_minor": 2
}