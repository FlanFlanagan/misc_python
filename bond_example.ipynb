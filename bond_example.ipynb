{
 "cells": [
  {
   "cell_type": "code",
   "execution_count": 16,
   "metadata": {},
   "outputs": [],
   "source": [
    "import numpy as np\n",
    "import scipy.stats as stats\n",
    "import matplotlib.pyplot as plt\n",
    "import random\n",
    "import pandas as pd\n",
    "import math"
   ]
  },
  {
   "cell_type": "code",
   "execution_count": 3,
   "metadata": {},
   "outputs": [],
   "source": [
    "def PV(F:float=1000, C:float=100, r:float=0.1, time:int=30, delta_t=1):\n",
    "    V_coupons = calc_coupons(C, r, time)\n",
    "    V_face = calc_f(F, r, time)\n",
    "    # return sum(V_coupons) + V_face\n",
    "    return V_coupons + V_face\n",
    "\n",
    "def PV1(hist, F:float=1000, C:float=100, r:float=0.1, time:int=30, delta_t=1):\n",
    "    int_rates = []\n",
    "    for _ in range(time):\n",
    "        sample = random.random()\n",
    "        int_rates.append(hist.ppf(sample)/100)\n",
    "    V_coupons = calc_coupons1(C, int_rates, time, delta_t)\n",
    "    V_face = calc_f1(F, int_rates, time)\n",
    "    # return sum(V_coupons) + V_face\n",
    "    return V_coupons + V_face\n",
    "\n",
    "def calc_f(F:float=1000, r:float=0.1, time:int=30):\n",
    "    V_face = F/((1+r)**time)\n",
    "    return V_face\n",
    "\n",
    "def calc_coupons(C: float, r: float, time: int):\n",
    "    V_coupons = C* (1-(1/(1+r)**time))/r\n",
    "    return V_coupons\n",
    "\n",
    "def calc_f1(F:float=1000, r:list = [0]):\n",
    "    denom = 1\n",
    "    for i in r:\n",
    "        denom *= (1+i) \n",
    "    V_face = F/denom\n",
    "    return V_face\n",
    "\n",
    "def calc_coupons1(C: float, r: list):\n",
    "    V_coupons = [0]\n",
    "    for i in r:\n",
    "        V_coupons.append(C/((1+i)))\n",
    "    return sum(V_coupons)\n",
    "\n",
    "def calc_coupons_exp(C: float, r: float, time: int, delta_t:int):\n",
    "    PV = [0]\n",
    "    for t in np.arange(0, time, delta_t):\n",
    "        PV.append(C * np.exp(-r*t))\n",
    "    return PV\n",
    "\n",
    "def PV_exp(F=1000., C=100., r=0.1, time:int=30, delta_t=1.0):\n",
    "    PV = 0\n",
    "    for t in np.arange(0, time, delta_t):\n",
    "        PV += C * np.exp(-r*t)\n",
    "    PV += F*np.exp(-r*(time))\n",
    "    return PV"
   ]
  },
  {
   "cell_type": "code",
   "execution_count": 22,
   "metadata": {},
   "outputs": [],
   "source": [
    "def build_hist(array):\n",
    "    n1 = int(1+3.3*np.log2(len(array)))\n",
    "    bins = np.linspace((array.min()),(array.max()),n1)\n",
    "    data = np.histogram(array, bins=bins)\n",
    "    hist_dist = stats.rv_histogram(data)\n",
    "    return hist_dist\n",
    "\n",
    "def plot_chist(array, color='g'):\n",
    "    n1 = int(1+3.3*np.log2(len(array)))\n",
    "    n, bins, patches = plt.hist(array, n1, cumulative=True, density=True, facecolor=color, alpha=0.75)\n",
    "\n",
    "def plot_hist(array, color='g'):\n",
    "    n1 = int(1+3.3*np.log2(len(array)))\n",
    "    n, bins, patches = plt.hist(array, n1, cumulative=False, density=False, facecolor=color, alpha=0.75)"
   ]
  },
  {
   "cell_type": "code",
   "execution_count": 4,
   "metadata": {},
   "outputs": [
    {
     "name": "stdout",
     "output_type": "stream",
     "text": [
      "927.9044759530999\n"
     ]
    }
   ],
   "source": [
    "print(PV(F=1000, C=100, r=0.12, time=5))"
   ]
  },
  {
   "cell_type": "code",
   "execution_count": 5,
   "metadata": {},
   "outputs": [],
   "source": [
    "interest=pd.read_csv('interest_rates.csv')\n",
    "main_int = np.array(interest['Total'])"
   ]
  },
  {
   "cell_type": "code",
   "execution_count": 6,
   "metadata": {},
   "outputs": [
    {
     "data": {
      "image/png": "[encoded data removed]",
      "text/plain": [
       "<Figure size 640x480 with 1 Axes>"
      ]
     },
     "metadata": {},
     "output_type": "display_data"
    }
   ],
   "source": [
    "plot_hist(main_int)"
   ]
  },
  {
   "cell_type": "code",
   "execution_count": 7,
   "metadata": {},
   "outputs": [
    {
     "data": {
      "image/png": "[encoded data removed]",
      "text/plain": [
       "<Figure size 640x480 with 1 Axes>"
      ]
     },
     "metadata": {},
     "output_type": "display_data"
    }
   ],
   "source": [
    "plot_chist(main_int)"
   ]
  },
  {
   "cell_type": "code",
   "execution_count": 8,
   "metadata": {},
   "outputs": [
    {
     "name": "stdout",
     "output_type": "stream",
     "text": [
      "1539.767553130214\n"
     ]
    }
   ],
   "source": [
    "int_hist=build_hist(main_int)\n",
    "int_rates = []\n",
    "for i in range(10):\n",
    "    sample = random.random()\n",
    "    int_rates.append(int_hist.ppf(sample))\n",
    "int_rates = np.array(int_rates)\n",
    "pvs = []\n",
    "for r in int_rates:\n",
    "    pvs.append(PV(F=1000, C=100, r=r/100, time=10))\n",
    "x = np.array(pvs)\n",
    "print(x.mean())"
   ]
  },
  {
   "cell_type": "code",
   "execution_count": 41,
   "metadata": {},
   "outputs": [
    {
     "data": {
      "image/png": "[encoded data removed]",
      "text/plain": [
       "<Figure size 432x288 with 1 Axes>"
      ]
     },
     "metadata": {
      "needs_background": "light"
     },
     "output_type": "display_data"
    }
   ],
   "source": [
    "stocks=pd.read_csv('stock_returns.csv')\n",
    "SP = np.array(stocks['SP'])\n",
    "DOW = np.array(stocks['DOW'])\n",
    "NAS = np.array(stocks['Nasdaq'])\n",
    "runs = 10000\n",
    "plot_hist(DOW)\n",
    "#plot_chist(SP, color='b')"
   ]
  },
  {
   "cell_type": "code",
   "execution_count": 42,
   "metadata": {},
   "outputs": [
    {
     "name": "stdout",
     "output_type": "stream",
     "text": [
      "4061.374096542864\n"
     ]
    }
   ],
   "source": [
    "SP_hist=build_hist(SP)\n",
    "sp_rates = np.zeros(runs)\n",
    "samples = np.zeros(runs)\n",
    "for i in range(runs):\n",
    "    sample = random.random()\n",
    "    sp_rates[i] = SP_hist.ppf(sample)\n",
    "    samples[i] = SP_hist.cdf(sample)\n",
    "pvs = []\n",
    "test = []\n",
    "for r in sp_rates:\n",
    "    pvs.append(PV(F=1000, C=100, r=r, time=10))\n",
    "    test.append(1000*(1+r)**10)\n",
    "x = np.array(pvs)\n",
    "test = np.array(test)\n",
    "print(x.mean())"
   ]
  },
  {
   "cell_type": "code",
   "execution_count": 43,
   "metadata": {},
   "outputs": [
    {
     "name": "stdout",
     "output_type": "stream",
     "text": [
      "3322.3814818375317\n"
     ]
    }
   ],
   "source": [
    "DOW_hist=build_hist(DOW)\n",
    "dow_rates = np.zeros(runs)\n",
    "samples = np.zeros(runs)\n",
    "for i in range(runs):\n",
    "    sample = random.random()\n",
    "    dow_rates[i] = (DOW_hist.ppf(sample))\n",
    "    samples[i] = DOW_hist.cdf(sample)\n",
    "pvs = []\n",
    "for r in dow_rates:\n",
    "    pvs.append(PV(F=1000, C=100, r=r, time=10))\n",
    "x = np.array(pvs)\n",
    "print(x.mean())"
   ]
  },
  {
   "cell_type": "code",
   "execution_count": 44,
   "metadata": {},
   "outputs": [
    {
     "name": "stdout",
     "output_type": "stream",
     "text": [
      "11527.673928323533\n"
     ]
    }
   ],
   "source": [
    "NAS_hist=build_hist(NAS)\n",
    "nas_rates = np.zeros(runs)\n",
    "samples = np.zeros(runs)\n",
    "for i in range(runs):\n",
    "    sample = random.random()\n",
    "    nas_rates[i] = NAS_hist.ppf(sample)\n",
    "    samples[i] = NAS_hist.cdf(sample)\n",
    "pvs = []\n",
    "for r in nas_rates:\n",
    "    pvs.append(PV(F=1000, C=100, r=r, time=10))\n",
    "x = np.array(pvs)\n",
    "print(x.mean())"
   ]
  },
  {
   "cell_type": "code",
   "execution_count": null,
   "metadata": {},
   "outputs": [],
   "source": [
    "m = []\n",
    "m3 = []\n",
    "ran = np.arange(-0.4, 1.0, .001)\n",
    "for r in ran:\n",
    "    m.append(PV(C=100, r=r, time=10, delta_t=1))\n",
    "plt.xlabel('Years')\n",
    "plt.ylabel('value')\n",
    "plt.plot(ran, m)"
   ]
  },
  {
   "cell_type": "code",
   "execution_count": 7,
   "metadata": {},
   "outputs": [
    {
     "data": {
      "text/plain": [
       "1367.9343960482138"
      ]
     },
     "execution_count": 7,
     "metadata": {},
     "output_type": "execute_result"
    }
   ],
   "source": [
    "interest=pd.read_csv('interest_rates.csv')\n",
    "main_int = np.array(interest['Total'])\n",
    "int_hist=build_hist(main_int)\n",
    "pv_vals = []\n",
    "for _ in range(100):\n",
    "    pv_vals.append(PV1(int_hist, 1000, 69, time=10))\n",
    "pv_vals = np.array(pv_vals)\n",
    "pv_vals.mean()"
   ]
  },
  {
   "cell_type": "code",
   "execution_count": 13,
   "metadata": {},
   "outputs": [
    {
     "data": {
      "text/plain": [
       "863.0154911487782"
      ]
     },
     "execution_count": 13,
     "metadata": {},
     "output_type": "execute_result"
    }
   ],
   "source": [
    "1000 \n",
    "x = (1+0.05)*(1+0.04)*(1+0.03)*(1+0.02)*(1+0.01)\n",
    "1000/x"
   ]
  },
  {
   "cell_type": "code",
   "execution_count": 17,
   "metadata": {},
   "outputs": [
    {
     "data": {
      "text/plain": [
       "1236.8058101019744"
      ]
     },
     "execution_count": 17,
     "metadata": {},
     "output_type": "execute_result"
    }
   ],
   "source": [
    "p1 = 80/((1+0.05)*(1+0.04)*(1+0.03)*(1+0.02)*(1+0.01))\n",
    "p2 = 80/((1+0.04)*(1+0.03)*(1+0.02)*(1+0.01))\n",
    "p3 = 80/((1+0.03)*(1+0.02)*(1+0.01))\n",
    "p4 = 80/((1+0.02)*(1+0.01))\n",
    "p5 = 80/((1+0.01))\n",
    "y = p1 + p2 + p3 + p4 + p5\n",
    "1000/x + y"
   ]
  },
  {
   "cell_type": "code",
   "execution_count": null,
   "metadata": {},
   "outputs": [],
   "source": []
  }
 ],
 "metadata": {
  "kernelspec": {
   "display_name": "Python 3.8.5",
   "language": "python",
   "name": "python3"
  },
  "language_info": {
   "codemirror_mode": {
    "name": "ipython",
    "version": 3
   },
   "file_extension": ".py",
   "mimetype": "text/x-python",
   "name": "python",
   "nbconvert_exporter": "python",
   "pygments_lexer": "ipython3",
   "version": "3.9.13"
  },
  "orig_nbformat": 4,
  "vscode": {
   "interpreter": {
    "hash": "82f14fe2003da70bc1fe11e31edd716f7a8c4ce9ac686320d97628cbeb00c18e"
   }
  }
 },
 "nbformat": 4,
 "nbformat_minor": 2
}
